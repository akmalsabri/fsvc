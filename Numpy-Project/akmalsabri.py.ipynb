{
 "cells": [
  {
   "cell_type": "code",
   "execution_count": 1,
   "metadata": {
    "collapsed": false
   },
   "outputs": [],
   "source": [
    "# Project from Ahmad Akmal bin Sabri\n",
    "\n",
    "\n",
    "from math import *\n",
    "from numpy import *\n",
    "import numpy as np"
   ]
  },
  {
   "cell_type": "code",
   "execution_count": 16,
   "metadata": {
    "collapsed": true
   },
   "outputs": [],
   "source": [
    "import numpy\n",
    "import math"
   ]
  },
  {
   "cell_type": "code",
   "execution_count": 2,
   "metadata": {
    "collapsed": false
   },
   "outputs": [
    {
     "data": {
      "text/plain": [
       "array([[1, 2, 3],\n",
       "       [4, 5, 6],\n",
       "       [7, 8, 1]])"
      ]
     },
     "execution_count": 2,
     "metadata": {},
     "output_type": "execute_result"
    }
   ],
   "source": [
    "# Create a 3x3 matrix with values ranging from 0 to 8\n",
    "\n",
    "A=array([[1,2,3],[4,5,6],[7,8,1]])\n",
    "\n",
    "A"
   ]
  },
  {
   "cell_type": "code",
   "execution_count": 3,
   "metadata": {
    "collapsed": false
   },
   "outputs": [
    {
     "name": "stdout",
     "output_type": "stream",
     "text": [
      "10\n",
      "10\n"
     ]
    }
   ],
   "source": [
    "# What is the output of the following script?\n",
    "\n",
    "print(sum(range(5),-1))\n",
    "from numpy import *\n",
    "print(sum(range(5),-1))"
   ]
  },
  {
   "cell_type": "code",
   "execution_count": 4,
   "metadata": {
    "collapsed": false
   },
   "outputs": [
    {
     "name": "stderr",
     "output_type": "stream",
     "text": [
      "C:\\Users\\twist\\Anaconda2\\envs\\tutorial\\lib\\site-packages\\ipykernel\\__main__.py:3: RuntimeWarning: invalid value encountered in sqrt\n",
      "  app.launch_new_instance()\n"
     ]
    },
    {
     "data": {
      "text/plain": [
       "False"
      ]
     },
     "execution_count": 4,
     "metadata": {},
     "output_type": "execute_result"
    }
   ],
   "source": [
    "# Is the following expressions true?\n",
    "\n",
    "np.sqrt(-1)== np.emath.sqrt(-1)"
   ]
  },
  {
   "cell_type": "code",
   "execution_count": 16,
   "metadata": {
    "collapsed": false,
    "scrolled": true
   },
   "outputs": [
    {
     "data": {
      "text/plain": [
       "array([2, 1, 2, 2, 2, 1, 1, 2, 2, 1, 2, 1, 2, 0, 0, 0, 1, 0, 1, 1, 0, 1, 1,\n",
       "       1, 1, 0, 0, 2, 2, 1])"
      ]
     },
     "execution_count": 16,
     "metadata": {},
     "output_type": "execute_result"
    }
   ],
   "source": [
    "# random vector of size 30\n",
    "import numpy as np\n",
    "from numpy import random\n",
    "\n",
    "B = np.random.randint(3, size=30)\n",
    "B"
   ]
  },
  {
   "cell_type": "code",
   "execution_count": 17,
   "metadata": {
    "collapsed": false
   },
   "outputs": [
    {
     "data": {
      "text/plain": [
       "1.1000000000000001"
      ]
     },
     "execution_count": 17,
     "metadata": {},
     "output_type": "execute_result"
    }
   ],
   "source": [
    "mean(B)"
   ]
  },
  {
   "cell_type": "code",
   "execution_count": 40,
   "metadata": {
    "collapsed": false
   },
   "outputs": [
    {
     "data": {
      "text/plain": [
       "matrix([[12, 18],\n",
       "        [17, 26],\n",
       "        [22, 34],\n",
       "        [27, 42],\n",
       "        [32, 50]])"
      ]
     },
     "execution_count": 40,
     "metadata": {},
     "output_type": "execute_result"
    }
   ],
   "source": [
    "# Multiply a 5x3 matrix by a 3x2 matrix (real matrix product)\n",
    "\n",
    "import numpy\n",
    "C= matrix([[1,2,3],[2,3,4],[3,4,5],[4,5,6],[5,6,7]])\n",
    "D= matrix ([[1,2],[1,2],[3,4]])\n",
    "C*D "
   ]
  },
  {
   "cell_type": "code",
   "execution_count": 24,
   "metadata": {
    "collapsed": false
   },
   "outputs": [
    {
     "name": "stdout",
     "output_type": "stream",
     "text": [
      "[[ 0  1  2]\n",
      " [ 3  4  5]\n",
      " [ 6  7  8]\n",
      " [ 9 10 11]\n",
      " [12 13 14]]\n",
      "[[0 1]\n",
      " [2 3]\n",
      " [4 5]]\n"
     ]
    },
    {
     "data": {
      "text/plain": [
       "array([[ 10,  13],\n",
       "       [ 28,  40],\n",
       "       [ 46,  67],\n",
       "       [ 64,  94],\n",
       "       [ 82, 121]])"
      ]
     },
     "execution_count": 24,
     "metadata": {},
     "output_type": "execute_result"
    }
   ],
   "source": [
    "# Multiply a 5x3 matrix by a 3x2 matrix (real matrix product)\n",
    "import numpy as np\n",
    "\n",
    "E= np.arange(15).reshape(5,3)\n",
    "F= np.arange(6).reshape(3,2)\n",
    "print(E)\n",
    "print(F) \n",
    "numpy.dot(E,F)"
   ]
  },
  {
   "cell_type": "code",
   "execution_count": 27,
   "metadata": {
    "collapsed": false
   },
   "outputs": [
    {
     "name": "stdout",
     "output_type": "stream",
     "text": [
      "[5 8 9 4 1 2 0 1 4 4]\n",
      "[0 1 1 2 4 4 4 5 8 9]\n"
     ]
    }
   ],
   "source": [
    "#random vector 10 and sort it\n",
    "x1 = np.random.randint(10, size=10)\n",
    "print(x1)\n",
    "x2=np.sort(x1)\n",
    "print(x2)\n"
   ]
  },
  {
   "cell_type": "code",
   "execution_count": 29,
   "metadata": {
    "collapsed": false
   },
   "outputs": [
    {
     "name": "stdout",
     "output_type": "stream",
     "text": [
      "[67 34  7 93 20 29 59 22 36 64 88 31 54 44 25 83 80 95 26 69 87 44 95 71 25\n",
      " 95 11 46 14 95 30 70 85 87 81 27 61 27 78 20  5 27 94 16 93 70 68  1 53 73\n",
      " 48 50 44 80 83 86 63 39 96 71  4 38 65  2 59 60 50 50  0 88 14 70 23 59 39\n",
      " 86 78 17 54 99 97 90 78  6  1 52 77 39 25 13 33 14 47 29 19 22 89 92 41 79]\n"
     ]
    }
   ],
   "source": [
    "# Create random vector of size 100 and replace the maximum value by 0\n",
    "\n",
    "x3= np.random.randint(100, size=100)\n",
    "print (x3)"
   ]
  },
  {
   "cell_type": "code",
   "execution_count": 38,
   "metadata": {
    "collapsed": false,
    "scrolled": false
   },
   "outputs": [
    {
     "data": {
      "text/plain": [
       "array([67, 34,  7, 93, 20, 29, 59, 22, 36, 64, 88, 31, 54, 44, 25, 83, 80,\n",
       "       95, 26, 69, 87, 44, 95, 71, 25, 95, 11, 46, 14, 95, 30, 70, 85, 87,\n",
       "       81, 27, 61, 27, 78, 20,  5, 27, 94, 16, 93, 70, 68,  1, 53, 73, 48,\n",
       "       50, 44, 80, 83, 86, 63, 39, 96, 71,  4, 38, 65,  2, 59, 60, 50, 50,\n",
       "        0, 88, 14, 70, 23, 59, 39, 86, 78, 17, 54,  0, 97, 90, 78,  6,  1,\n",
       "       52, 77, 39, 25, 13, 33, 14, 47, 29, 19, 22, 89, 92, 41, 79])"
      ]
     },
     "execution_count": 38,
     "metadata": {},
     "output_type": "execute_result"
    }
   ],
   "source": [
    "x3[x3 == max] = 0 # or x3==99\n",
    "x3"
   ]
  },
  {
   "cell_type": "code",
   "execution_count": 50,
   "metadata": {
    "collapsed": false
   },
   "outputs": [
    {
     "name": "stdout",
     "output_type": "stream",
     "text": [
      "[[ 0.34342318  0.56436545]\n",
      " [ 0.36483667  0.69084138]\n",
      " [ 0.06153686  0.59610212]]\n",
      "[[ 0.94645031  0.04910056  0.9427224 ]\n",
      " [ 0.90484184  0.66649977  0.32838501]]\n"
     ]
    }
   ],
   "source": [
    "# How to get the diagonal of a dot product?\n",
    "\n",
    "y1 = np.random.rand(3,2)\n",
    "y2 = np.random.rand(2,3)\n",
    "print(y1)\n",
    "print(y2)\n"
   ]
  },
  {
   "cell_type": "code",
   "execution_count": 51,
   "metadata": {
    "collapsed": false,
    "scrolled": true
   },
   "outputs": [
    {
     "data": {
      "text/plain": [
       "array([[ 0.83569446,  0.39301172,  0.50908188],\n",
       "       [ 0.97040197,  0.47835931,  0.57080166],\n",
       "       [ 0.59761972,  0.40032342,  0.25376318]])"
      ]
     },
     "execution_count": 51,
     "metadata": {},
     "output_type": "execute_result"
    }
   ],
   "source": [
    "y3=np.dot(y1,y2)\n",
    "y3"
   ]
  },
  {
   "cell_type": "code",
   "execution_count": 54,
   "metadata": {
    "collapsed": false,
    "scrolled": true
   },
   "outputs": [
    {
     "data": {
      "text/plain": [
       "array([ 0.83569446,  0.47835931,  0.25376318])"
      ]
     },
     "execution_count": 54,
     "metadata": {},
     "output_type": "execute_result"
    }
   ],
   "source": [
    "result = np.diag(y3)\n",
    "result"
   ]
  }
 ],
 "metadata": {
  "anaconda-cloud": {},
  "kernelspec": {
   "display_name": "Python [tutorial]",
   "language": "python",
   "name": "Python [tutorial]"
  },
  "language_info": {
   "codemirror_mode": {
    "name": "ipython",
    "version": 2
   },
   "file_extension": ".py",
   "mimetype": "text/x-python",
   "name": "python",
   "nbconvert_exporter": "python",
   "pygments_lexer": "ipython2",
   "version": "2.7.11"
  }
 },
 "nbformat": 4,
 "nbformat_minor": 0
}
